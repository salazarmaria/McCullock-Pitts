{
  "nbformat": 4,
  "nbformat_minor": 0,
  "metadata": {
    "colab": {
      "provenance": [],
      "authorship_tag": "ABX9TyOo7bTm7Y6/onl3+U7aEVRu",
      "include_colab_link": true
    },
    "kernelspec": {
      "name": "python3",
      "display_name": "Python 3"
    },
    "language_info": {
      "name": "python"
    }
  },
  "cells": [
    {
      "cell_type": "markdown",
      "metadata": {
        "id": "view-in-github",
        "colab_type": "text"
      },
      "source": [
        "<a href=\"https://colab.research.google.com/github/salazarmaria/McCullock-Pitts/blob/main/Perceptron_OR_y_NOT/notas.ipynb\" target=\"_parent\"><img src=\"https://colab.research.google.com/assets/colab-badge.svg\" alt=\"Open In Colab\"/></a>"
      ]
    },
    {
      "cell_type": "markdown",
      "source": [
        "#Perceptron OR"
      ],
      "metadata": {
        "id": "A1k9_zRm0YiK"
      }
    },
    {
      "cell_type": "code",
      "execution_count": null,
      "metadata": {
        "colab": {
          "base_uri": "https://localhost:8080/"
        },
        "id": "E3a7y6ijzgC9",
        "outputId": "a18f4065-1dd4-4d93-d756-7652ca3206e1"
      },
      "outputs": [
        {
          "output_type": "stream",
          "name": "stdout",
          "text": [
            "Pesos finales: [0.23696985 0.53166245]\n",
            "Sesgo final: 0.46677789585716\n",
            "\n",
            "Pruebas del perceptrón:\n",
            "Entrada: [0 0], Salida: 0\n",
            "Entrada: [0 1], Salida: 1\n",
            "Entrada: [1 0], Salida: 1\n",
            "Entrada: [1 1], Salida: 1\n"
          ]
        }
      ],
      "source": [
        "# PERCEPTRÓN PARA LA OPERACIÓN LÓGICA OR\n",
        "# Importamos numpy para manejar vectores y operaciones matemáticas\n",
        "\n",
        "import numpy as np\n",
        "\n",
        "# Definimos las entradas y salidas esperadas\n",
        "# Estas son las combinaciones posibles de la operación OR (0 o 1)\n",
        "# OR devuelve 1 cuando al menos una de las entradas es 1\n",
        "entradas = np.array([\n",
        "    [0, 0],\n",
        "    [0, 1],\n",
        "    [1, 0],\n",
        "    [1, 1]\n",
        "])\n",
        "\n",
        "# Salidas esperadas según la tabla de verdad del OR\n",
        "salidas_esperadas = np.array([0, 1, 1, 1])\n",
        "\n",
        "#Inicializamos pesos, sesgo y tasa de aprendizaje\n",
        "# Los pesos se asignan al azar; se irán ajustando durante el entrenamiento\n",
        "pesos = np.random.rand(2)\n",
        "sesgo = np.random.rand()\n",
        "tasa_aprendizaje = 0.1  # controla qué tanto cambian los pesos\n",
        "#Entrenamos el perceptrón\n",
        "# Vamos a repetir el proceso varias veces (20 épocas)\n",
        "for epoca in range(20):\n",
        "    # Recorremos cada ejemplo de entrenamiento\n",
        "    for i in range(len(entradas)):\n",
        "        entrada = entradas[i]\n",
        "        salida_deseada = salidas_esperadas[i]\n",
        "\n",
        "        # Calculamos la salida de la neurona: (entrada * peso) + sesgo\n",
        "        suma = np.dot(entrada, pesos) + sesgo\n",
        "\n",
        "        # Usamos una función escalón: si la suma >= 0.5, la neurona \"se activa\" (1)\n",
        "        salida_obtenida = 1 if suma >= 0.5 else 0\n",
        "\n",
        "        # Calculamos el error entre la salida deseada y la obtenida\n",
        "        error = salida_deseada - salida_obtenida\n",
        "\n",
        "        # Ajustamos los pesos y el sesgo usando la regla del perceptrón\n",
        "        pesos += tasa_aprendizaje * error * entrada\n",
        "        sesgo += tasa_aprendizaje * error\n",
        "\n",
        "#Mostramos los resultados finales\n",
        "print(\"Pesos finales:\", pesos)\n",
        "print(\"Sesgo final:\", sesgo)\n",
        "print(\"\\nPruebas del perceptrón:\")\n",
        "\n",
        "# Probamos todas las combinaciones posibles\n",
        "for entrada in entradas:\n",
        "    suma = np.dot(entrada, pesos) + sesgo\n",
        "    salida = 1 if suma >= 0.5 else 0\n",
        "    print(f\"Entrada: {entrada}, Salida: {salida}\")\n"
      ]
    },
    {
      "cell_type": "markdown",
      "source": [
        "#Perceptron NOT"
      ],
      "metadata": {
        "id": "n2x2ireo0iq3"
      }
    },
    {
      "cell_type": "code",
      "source": [
        "# PERCEPTRÓN PARA LA OPERACIÓN LÓGICA OR\n",
        "# Importamos numpy para manejar vectores y operaciones matemáticas\n",
        "import numpy as np\n",
        "\n",
        "#Definimos las entradas y salidas esperadas\n",
        "# Estas son las combinaciones posibles de la operación OR (0 o 1)\n",
        "# OR devuelve 1 cuando al menos una de las entradas es 1\n",
        "entradas = np.array([\n",
        "    [0, 0],\n",
        "    [0, 1],\n",
        "    [1, 0],\n",
        "    [1, 1]\n",
        "])\n",
        "\n",
        "# Salidas esperadas según la tabla de verdad del OR\n",
        "salidas_esperadas = np.array([0, 1, 1, 1])\n",
        "\n",
        "#Inicializamos pesos, sesgo y tasa de aprendizaje\n",
        "# Los pesos se asignan al azar; se irán ajustando durante el entrenamiento\n",
        "pesos = np.random.rand(2)\n",
        "sesgo = np.random.rand()\n",
        "tasa_aprendizaje = 0.1  # controla qué tanto cambian los pesos\n",
        "\n",
        "#Entrenamos el perceptrón\n",
        "# Vamos a repetir el proceso varias veces (20 épocas)\n",
        "for epoca in range(20):\n",
        "    # Recorremos cada ejemplo de entrenamiento\n",
        "    for i in range(len(entradas)):\n",
        "        entrada = entradas[i]\n",
        "        salida_deseada = salidas_esperadas[i]\n",
        "\n",
        "        # Calculamos la salida de la neurona: (entrada * peso) + sesgo\n",
        "        suma = np.dot(entrada, pesos) + sesgo\n",
        "\n",
        "        # Usamos una función escalón: si la suma >= 0.5, la neurona \"se activa\" (1)\n",
        "        salida_obtenida = 1 if suma >= 0.5 else 0\n",
        "\n",
        "        # Calculamos el error entre la salida deseada y la obtenida\n",
        "        error = salida_deseada - salida_obtenida\n",
        "\n",
        "        # Ajustamos los pesos y el sesgo usando la regla del perceptrón\n",
        "        pesos += tasa_aprendizaje * error * entrada\n",
        "        sesgo += tasa_aprendizaje * error\n",
        "\n",
        "#Mostramos los resultados finales\n",
        "print(\"Pesos finales:\", pesos)\n",
        "print(\"Sesgo final:\", sesgo)\n",
        "print(\"\\nPruebas del perceptrón:\")\n",
        "\n",
        "# Probamos todas las combinaciones posibles\n",
        "for entrada in entradas:\n",
        "    suma = np.dot(entrada, pesos) + sesgo\n",
        "    salida = 1 if suma >= 0.5 else 0\n",
        "    print(f\"Entrada: {entrada}, Salida: {salida}\")\n"
      ],
      "metadata": {
        "colab": {
          "base_uri": "https://localhost:8080/"
        },
        "id": "yiFs7x9D0nw2",
        "outputId": "0689cae7-0f41-4d78-dc42-32fb9791ffa5"
      },
      "execution_count": null,
      "outputs": [
        {
          "output_type": "stream",
          "name": "stdout",
          "text": [
            "Pesos finales: [0.56092927 0.15374381]\n",
            "Sesgo final: 0.45912623266792085\n",
            "\n",
            "Pruebas del perceptrón:\n",
            "Entrada: [0 0], Salida: 0\n",
            "Entrada: [0 1], Salida: 1\n",
            "Entrada: [1 0], Salida: 1\n",
            "Entrada: [1 1], Salida: 1\n"
          ]
        }
      ]
    }
  ]
}
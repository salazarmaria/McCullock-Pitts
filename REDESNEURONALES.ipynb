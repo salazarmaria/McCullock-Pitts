{
  "nbformat": 4,
  "nbformat_minor": 0,
  "metadata": {
    "colab": {
      "provenance": [],
      "authorship_tag": "ABX9TyN8AtoUSxS+PNhOtQt8+nem",
      "include_colab_link": true
    },
    "kernelspec": {
      "name": "python3",
      "display_name": "Python 3"
    },
    "language_info": {
      "name": "python"
    }
  },
  "cells": [
    {
      "cell_type": "markdown",
      "metadata": {
        "id": "view-in-github",
        "colab_type": "text"
      },
      "source": [
        "<a href=\"https://colab.research.google.com/github/salazarmaria/McCullock-Pitts/blob/main/REDESNEURONALES.ipynb\" target=\"_parent\"><img src=\"https://colab.research.google.com/assets/colab-badge.svg\" alt=\"Open In Colab\"/></a>"
      ]
    },
    {
      "cell_type": "markdown",
      "source": [
        "#REDES NEURONALES\n"
      ],
      "metadata": {
        "id": "A2GaZPMsJha5"
      }
    },
    {
      "cell_type": "markdown",
      "source": [
        "##McCullock-Pitts"
      ],
      "metadata": {
        "id": "DLKRvyL-JqJe"
      }
    },
    {
      "cell_type": "markdown",
      "source": [
        "##AND\n"
      ],
      "metadata": {
        "id": "IHkKMkXnUGmH"
      }
    },
    {
      "cell_type": "code",
      "source": [
        "# Importar numpy para trabajar con arreglos\n",
        "import numpy as np\n",
        "\n",
        "# Entradas posibles para la neurona\n",
        "x = np.array([\n",
        "    [0, 0],\n",
        "    [0, 1],\n",
        "    [1, 0],\n",
        "    [1, 1]\n",
        "])\n",
        "\n",
        "# Salidas esperadas\n",
        "y = np.array([0, 0, 0, 1])\n",
        "\n",
        "# Pesos de las entradas\n",
        "z = [1, 1]\n",
        "\n",
        "# Umbral para activar la neurona\n",
        "umbral = 2"
      ],
      "metadata": {
        "id": "NQMumytgTxg5"
      },
      "execution_count": 2,
      "outputs": []
    },
    {
      "cell_type": "code",
      "source": [
        "\n",
        "# Clase para la neurona McCulloch-Pitts\n",
        "class McCullochPitts:\n",
        "    def __init__(self, weights, umbral):\n",
        "        # Guardar pesos y umbral\n",
        "        self.weights = weights\n",
        "        self.umbral = umbral\n",
        "\n",
        "    def predict(self, x):\n",
        "        # Guardar resultados\n",
        "        predictions = []\n",
        "\n",
        "        # Revisar cada entrada\n",
        "        for i in range(x.shape[0]):\n",
        "            # Calcular suma ponderada\n",
        "            weighted_sum = np.dot(self.weights, x[i])\n",
        "            print(f\"Input: {x[i]}, Weighted Sum: {weighted_sum}\")\n",
        "\n",
        "            # Comparar con umbral para decidir salida\n",
        "            if weighted_sum >= self.umbral:\n",
        "                predictions.append(1)  # activa\n",
        "            else:\n",
        "                predictions.append(0)  # no activa\n",
        "\n",
        "        return predictions"
      ],
      "metadata": {
        "id": "bLv6cfdhT5dd"
      },
      "execution_count": 3,
      "outputs": []
    },
    {
      "cell_type": "code",
      "source": [
        "# Crear neurona McCulloch-Pitts\n",
        "mcp = McCullochPitts(z, umbral)\n",
        "\n",
        "# Calcular predicciones\n",
        "predictions = mcp.predict(x)\n",
        "\n",
        "# Mostrar resultados\n",
        "print(\"Predictions:\", predictions)"
      ],
      "metadata": {
        "colab": {
          "base_uri": "https://localhost:8080/"
        },
        "id": "APxTrj6YT_LT",
        "outputId": "1d8dc103-2d6c-497b-911d-802bdf214365"
      },
      "execution_count": 4,
      "outputs": [
        {
          "output_type": "stream",
          "name": "stdout",
          "text": [
            "Input: [0 0], Weighted Sum: 0\n",
            "Input: [0 1], Weighted Sum: 1\n",
            "Input: [1 0], Weighted Sum: 1\n",
            "Input: [1 1], Weighted Sum: 2\n",
            "Predictions: [0, 0, 0, 1]\n"
          ]
        }
      ]
    },
    {
      "cell_type": "markdown",
      "source": [
        "AND (Y): devuelve 1 solo si todas las entradas son verdaderas. Se usa cuando se requiere que se cumplan todas las condiciones simultáneamente"
      ],
      "metadata": {
        "id": "fzAGBmOpZPq7"
      }
    },
    {
      "cell_type": "markdown",
      "source": [
        "##OR"
      ],
      "metadata": {
        "id": "SZh5aq9AWyB9"
      }
    },
    {
      "cell_type": "code",
      "source": [
        "# Importar librería para trabajar con arreglos\n",
        "import numpy as np"
      ],
      "metadata": {
        "id": "6vsxqKEXW39a"
      },
      "execution_count": 20,
      "outputs": []
    },
    {
      "cell_type": "code",
      "source": [
        "# Entradas posibles para la neurona\n",
        "a = np.array([\n",
        "    [0, 0],  # entrada 1 y 2 son 0\n",
        "    [0, 1],  # entrada 1 es 0, entrada 2 es 1\n",
        "    [1, 0],  # entrada 1 es 1, entrada 2 es 0\n",
        "    [1, 1]   # ambas entradas son 1\n",
        "])\n",
        "\n",
        "# Salidas esperadas\n",
        "b = np.array([0, 1, 1, 1])\n",
        "\n",
        "# Pesos asignados a cada entrada\n",
        "c = [2, 4]\n",
        "\n",
        "# Umbral para activar la neurona\n",
        "umbral = 2"
      ],
      "metadata": {
        "id": "uVUWUlQ4Xk-R"
      },
      "execution_count": 21,
      "outputs": []
    },
    {
      "cell_type": "code",
      "source": [
        "\n",
        "# Clase para representar la neurona McCulloch-Pitts\n",
        "class McCullochPitts:\n",
        "    def __init__(self, weights, umbral):\n",
        "        # Guardar pesos y umbral para la neurona\n",
        "        self.weights = weights\n",
        "        self.umbral = umbral\n",
        "\n",
        "    def predict(self, a):\n",
        "        # Lista para guardar resultados\n",
        "        predictions = []\n",
        "\n",
        "        # Revisar cada entrada\n",
        "        for i in range(a.shape[0]):\n",
        "            # Calcular suma ponderada\n",
        "            weighted_sum = np.dot(self.weights, a[i])\n",
        "            print(f\"Input: {a[i]}, Weighted Sum: {weighted_sum}\")\n",
        "\n",
        "            # Comparar suma ponderada con umbral\n",
        "            if weighted_sum >= self.umbral:\n",
        "                predictions.append(1)  # activa\n",
        "            else:\n",
        "                predictions.append(0)  # no activa\n",
        "\n",
        "        return predictions"
      ],
      "metadata": {
        "id": "jdMag5klXoOQ"
      },
      "execution_count": 22,
      "outputs": []
    },
    {
      "cell_type": "code",
      "source": [
        "\n",
        "# Crear neurona McCulloch-Pitts con pesos y umbral\n",
        "mcp = McCullochPitts(c, umbral)\n",
        "\n",
        "# Calcular predicciones usando entradas\n",
        "predictions = mcp.predict(a)\n",
        "\n",
        "# Mostrar resultados finales\n",
        "print(\"Predictions:\", predictions)"
      ],
      "metadata": {
        "colab": {
          "base_uri": "https://localhost:8080/"
        },
        "id": "rcqKl7OCXsqi",
        "outputId": "0c55939e-182e-4069-fe4f-26dca5fd69b3"
      },
      "execution_count": 23,
      "outputs": [
        {
          "output_type": "stream",
          "name": "stdout",
          "text": [
            "Input: [0 0], Weighted Sum: 0\n",
            "Input: [0 1], Weighted Sum: 4\n",
            "Input: [1 0], Weighted Sum: 2\n",
            "Input: [1 1], Weighted Sum: 6\n",
            "Predictions: [0, 1, 1, 1]\n"
          ]
        }
      ]
    },
    {
      "cell_type": "markdown",
      "source": [
        "OR (O): devuelve 1 si al menos una entrada es verdadera. Se usa cuando basta con que se cumpla una condición"
      ],
      "metadata": {
        "id": "jkMZkAdqZyuV"
      }
    },
    {
      "cell_type": "markdown",
      "source": [
        "##NOT"
      ],
      "metadata": {
        "id": "GGrCkA9uYAuv"
      }
    },
    {
      "cell_type": "code",
      "source": [
        "# Importar numpy para trabajar con arreglos\n",
        "import numpy as np"
      ],
      "metadata": {
        "id": "uvom2-iBYCWI"
      },
      "execution_count": 13,
      "outputs": []
    },
    {
      "cell_type": "code",
      "source": [
        "# Entradas posibles para la función NOT\n",
        "d = np.array([\n",
        "    [0],  # entrada 0\n",
        "    [1]   # entrada 1\n",
        "])\n",
        "# Salidas esperadas para NOT\n",
        "e = np.array([1, 0])\n",
        "# Peso negativo para invertir la entrada\n",
        "f = [-1]\n",
        "# Umbral para activar la neurona\n",
        "umbral = 0"
      ],
      "metadata": {
        "id": "b0i_iA10YZm6"
      },
      "execution_count": 17,
      "outputs": []
    },
    {
      "cell_type": "code",
      "source": [
        "# Clase para representar la neurona McCulloch-Pitts\n",
        "class McCullochPitts:\n",
        "    def __init__(self, weights, umbral):\n",
        "        # Guardar pesos y umbral\n",
        "        self.weights = weights\n",
        "        self.umbral = umbral\n",
        "\n",
        "    def predict(self, d):\n",
        "        # Lista para guardar resultados\n",
        "        predictions = []\n",
        "\n",
        "        # Revisar cada entrada\n",
        "        for i in range(d.shape[0]):\n",
        "            # Calcular suma ponderada\n",
        "            weighted_sum = np.dot(self.weights, d[i])\n",
        "            print(f\"Input: {d[i]}, Weighted Sum: {weighted_sum}\")\n",
        "\n",
        "            # Comparar suma ponderada con umbral\n",
        "            if weighted_sum >= self.umbral:\n",
        "                predictions.append(1)  # neurona activa\n",
        "            else:\n",
        "                predictions.append(0)  # neurona no activa\n",
        "\n",
        "        return predictions"
      ],
      "metadata": {
        "id": "6Oiok7-3YcIZ"
      },
      "execution_count": 18,
      "outputs": []
    },
    {
      "cell_type": "code",
      "source": [
        "# Crear la neurona McCulloch-Pitts con pesos y umbral\n",
        "mcp = McCullochPitts(f, umbral)\n",
        "\n",
        "# Calcular predicciones usando entradas\n",
        "predictions = mcp.predict(d)\n",
        "\n",
        "# Mostrar resultados finales\n",
        "print(\"Predictions:\", predictions)"
      ],
      "metadata": {
        "colab": {
          "base_uri": "https://localhost:8080/"
        },
        "id": "W8YBuju1Yg3Q",
        "outputId": "37b4aea2-d49a-4146-96ee-34ca5ca53810"
      },
      "execution_count": 19,
      "outputs": [
        {
          "output_type": "stream",
          "name": "stdout",
          "text": [
            "Input: [0], Weighted Sum: 0\n",
            "Input: [1], Weighted Sum: -1\n",
            "Predictions: [1, 0]\n"
          ]
        }
      ]
    },
    {
      "cell_type": "markdown",
      "source": [
        "NOT (NO): invierte el valor de entrada, cambiando 1 a 0 y viceversa. Se usa para negar condiciones"
      ],
      "metadata": {
        "id": "OVdOA9FPZ9Dx"
      }
    }
  ]
}